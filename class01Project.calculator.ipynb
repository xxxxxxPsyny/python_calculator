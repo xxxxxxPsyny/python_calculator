{
 "cells": [
  {
   "cell_type": "code",
   "execution_count": 3,
   "metadata": {},
   "outputs": [
    {
     "name": "stdout",
     "output_type": "stream",
     "text": [
      "187546156.0\n"
     ]
    }
   ],
   "source": [
    "from tkinter import *\n",
    "\n",
    "from tkinter import messagebox\n",
    "\n",
    "calc = Tk()\n",
    "calc.title(\"Calculadora - DataScience with Python\")\n",
    "calc.geometry(\"400x300\")\n",
    "calc.resizable(width = False, height = False)\n",
    "calc.configure(background=\"#dde\")\n",
    "l = Label(calc, text = \"Calculadora Python\")\n",
    "l.place(x=200, y=25, anchor=\"center\")\n",
    "l.config(font =(\"Comic Sams\", 14))\n",
    "\n",
    "def calculate(dowhat):   \n",
    "    num1 = vvalue1.get()\n",
    "    num2 = vvalue2.get()\n",
    "    operation = dowhat\n",
    "    if operation == 1:\n",
    "        result = float(num1) + float(num2)\n",
    "    elif operation == 2:\n",
    "        result = float(num1) - float(num2)\n",
    "    elif operation == 3:\n",
    "        result = float(num1) * float(num2)\n",
    "    elif operation == 4:\n",
    "        if num2 == \"0\": messagebox.showerror('Cabaço!', 'O divisor deve ser >= 0 :D')\n",
    "        else:\n",
    "            result = float(num1) / float(num2)\n",
    "    elif operation == 5:\n",
    "        result = float(num1) ** float(num2)\n",
    "    print(result)\n",
    "    \n",
    "    global rl1    \n",
    "    rl1 = Label(calc, text = \"Resultado\")\n",
    "    rl1.place(x=200, y=200, anchor=\"center\")\n",
    "    rl1.config(font =(\"Comic Sams\", 12))\n",
    "\n",
    "    global rl2    \n",
    "    rl2 = Label(calc, text = result)\n",
    "    rl2.place(x=200, y=230, anchor=\"center\")\n",
    "    rl2.config(font =(\"Comic Sams\", 20))\n",
    "\n",
    "def clear_label():\n",
    "    rl2.config(text = \"\")\n",
    "    \n",
    "Label(calc, text = \"Digite um valor\", foreground = \"#009\", anchor = W).place(x = 10, y = 50, width = 100, height = 20)\n",
    "vvalue1 = Entry(calc)\n",
    "vvalue1.place(x = 10, y = 70, width = 200, height = 20)\n",
    "\n",
    "Label(calc, text= \"Digitel um valor\", foreground = \"#009\", anchor = W).place(x = 10, y = 100, width = 100, height = 20)\n",
    "vvalue2 = Entry(calc)\n",
    "vvalue2.place(x = 10, y = 120, width = 200, height = 20)\n",
    "\n",
    "\n",
    "Label(calc, text= \"Operação\", foreground = \"#009\", anchor = W).place(x = 260, y = 50, width = 100, height = 20)\n",
    "\n",
    "B1 = Button(calc, text = \"Soma\", command = lambda: calculate(1))\n",
    "B1.place(x = 250,y = 80)\n",
    "\n",
    "B2 = Button(calc, text = \"Subtração\", command = lambda: calculate(2))\n",
    "B2.place(x = 310,y = 80)\n",
    "\n",
    "B3 = Button(calc, text = \"Multiplicação\", command = lambda: calculate(3))\n",
    "B3.place(x = 240,y = 110)\n",
    "\n",
    "B4 = Button(calc, text = \"Divisão\", command = lambda: calculate(4))\n",
    "B4.place(x = 330,y = 110)\n",
    "\n",
    "B5 = Button(calc, text = \"Potência\", command = lambda: calculate(5))\n",
    "B5.place(x = 285,y = 140)\n",
    "\n",
    "B6 = Button(calc, text = \"Limpar Resultados\", command = clear_label)\n",
    "B6.place(x=200, y=280, anchor=\"center\")\n",
    "\n",
    "calc.mainloop()"
   ]
  },
  {
   "cell_type": "code",
   "execution_count": null,
   "metadata": {},
   "outputs": [],
   "source": []
  },
  {
   "cell_type": "code",
   "execution_count": null,
   "metadata": {},
   "outputs": [],
   "source": []
  }
 ],
 "metadata": {
  "kernelspec": {
   "display_name": "Python 3",
   "language": "python",
   "name": "python3"
  },
  "language_info": {
   "codemirror_mode": {
    "name": "ipython",
    "version": 3
   },
   "file_extension": ".py",
   "mimetype": "text/x-python",
   "name": "python",
   "nbconvert_exporter": "python",
   "pygments_lexer": "ipython3",
   "version": "3.8.5"
  }
 },
 "nbformat": 4,
 "nbformat_minor": 4
}
